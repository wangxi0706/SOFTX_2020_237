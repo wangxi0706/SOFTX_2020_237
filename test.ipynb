{
 "metadata": {
  "language_info": {
   "codemirror_mode": {
    "name": "ipython",
    "version": 3
   },
   "file_extension": ".py",
   "mimetype": "text/x-python",
   "name": "python",
   "nbconvert_exporter": "python",
   "pygments_lexer": "ipython3",
   "version": "3.8.3-final"
  },
  "orig_nbformat": 2,
  "kernelspec": {
   "name": "python383jvsc74a57bd05ec8996a2900b6e7a1d927dd627df27a5a5c3c27761cb822211f1939931dbd50",
   "display_name": "Python 3.8.3 64-bit ('OPT': conda)"
  },
  "metadata": {
   "interpreter": {
    "hash": "5ec8996a2900b6e7a1d927dd627df27a5a5c3c27761cb822211f1939931dbd50"
   }
  }
 },
 "nbformat": 4,
 "nbformat_minor": 2,
 "cells": [
  {
   "cell_type": "code",
   "execution_count": 1,
   "metadata": {},
   "outputs": [
    {
     "output_type": "stream",
     "name": "stdout",
     "text": [
      "1\n2\n3\n4\n5\n6\n7\n8\n9\n10\n"
     ]
    }
   ],
   "source": [
    "n=10\n",
    "for i in range(1, int(n+1.1)):\n",
    "    print(i)"
   ]
  }
 ]
}